{
 "cells": [
  {
   "cell_type": "code",
   "execution_count": 10,
   "id": "1ef80d97-30d1-4ee9-9652-d3d82b311715",
   "metadata": {},
   "outputs": [],
   "source": [
    "# Useful additional packages\n",
    "import matplotlib.pyplot as plt\n",
    "import numpy as np\n",
    "import qiskit\n",
    "import math\n"
   ]
  },
  {
   "cell_type": "code",
   "execution_count": null,
   "id": "2fffd330-d093-48f0-939c-9889434d61a9",
   "metadata": {
    "is_executing": true
   },
   "outputs": [],
   "source": [
    "from math import pi\n",
    "from qiskit import QuantumCircuit, ClassicalRegister, QuantumRegister, transpile\n",
    "from qiskit.tools.visualization import circuit_drawer\n",
    "from qiskit.quantum_info import state_fidelity\n",
    "from qiskit import BasicAer\n",
    "from qiskit import providers\n",
    "from qiskit import aqua\n",
    "\n",
    "from qiskit.aqua.components.uncertainty_models import NormalDistribution,UniformDistribution,LogNormalDistribution\n",
    "from qiskit.aqua.components.uncertainty_models import UnivariateVariationalDistribution\n",
    "from qiskit.aqua.components.uncertainty_models import MultivariateVariationalDistribution\n",
    "\n"
   ]
  },
  {
   "cell_type": "code",
   "execution_count": 9,
   "id": "9fc3e2f8-b3d0-43ff-9774-9ed52292b24b",
   "metadata": {},
   "outputs": [
    {
     "data": {
      "text/html": [
       "<pre style=\"word-wrap: normal;white-space: pre;background: #fff0;line-height: 1.1;font-family: &quot;Courier New&quot;,Courier,monospace\">     ┌───┐\n",
       "q_0: ┤ H ├\n",
       "     ├───┤\n",
       "q_1: ┤ H ├\n",
       "     ├───┤\n",
       "q_2: ┤ H ├\n",
       "     ├───┤\n",
       "q_3: ┤ H ├\n",
       "     └───┘\n",
       "c_0: ═════\n",
       "          \n",
       "c_1: ═════\n",
       "          \n",
       "c_2: ═════\n",
       "          </pre>"
      ],
      "text/plain": [
       "     ┌───┐\n",
       "q_0: ┤ H ├\n",
       "     ├───┤\n",
       "q_1: ┤ H ├\n",
       "     ├───┤\n",
       "q_2: ┤ H ├\n",
       "     ├───┤\n",
       "q_3: ┤ H ├\n",
       "     └───┘\n",
       "c_0: ═════\n",
       "          \n",
       "c_1: ═════\n",
       "          \n",
       "c_2: ═════\n",
       "          "
      ]
     },
     "execution_count": 9,
     "metadata": {},
     "output_type": "execute_result"
    }
   ],
   "source": [
    "qc = QuantumCircuit(4, 3)\n",
    "for i in range (0,4):\n",
    "    qc.h(i)\n",
    "qc.draw()"
   ]
  },
  {
   "cell_type": "code",
   "execution_count": 10,
   "id": "618a1d23-1531-4ab0-8e2e-fb3d47d2d572",
   "metadata": {},
   "outputs": [
    {
     "ename": "NameError",
     "evalue": "name 'NormalDistribution' is not defined",
     "output_type": "error",
     "traceback": [
      "\u001B[1;31m---------------------------------------------------------------------------\u001B[0m",
      "\u001B[1;31mNameError\u001B[0m                                 Traceback (most recent call last)",
      "Cell \u001B[1;32mIn [10], line 2\u001B[0m\n\u001B[0;32m      1\u001B[0m circuit \u001B[38;5;241m=\u001B[39m QuantumCircuit(\u001B[38;5;241m5\u001B[39m,\u001B[38;5;241m5\u001B[39m)\n\u001B[1;32m----> 2\u001B[0m normal \u001B[38;5;241m=\u001B[39m \u001B[43mNormalDistribution\u001B[49m(num_target_qubits \u001B[38;5;241m=\u001B[39m \u001B[38;5;241m5\u001B[39m, mu\u001B[38;5;241m=\u001B[39m\u001B[38;5;241m0\u001B[39m, sigma\u001B[38;5;241m=\u001B[39m\u001B[38;5;241m1\u001B[39m, low\u001B[38;5;241m=\u001B[39m\u001B[38;5;241m-\u001B[39m \u001B[38;5;241m1\u001B[39m, high\u001B[38;5;241m=\u001B[39m\u001B[38;5;241m1\u001B[39m)\n\u001B[0;32m      3\u001B[0m normal\u001B[38;5;241m.\u001B[39mbuild(circuit,q)\n\u001B[0;32m      4\u001B[0m circuit\u001B[38;5;241m.\u001B[39mmeasure(q,c)\n",
      "\u001B[1;31mNameError\u001B[0m: name 'NormalDistribution' is not defined"
     ]
    }
   ],
   "source": [
    "circuit = QuantumCircuit(5,5)\n",
    "normal = NormalDistribution(num_target_qubits = 5, mu=0, sigma=1, low=- 1, high=1)\n",
    "normal.build(circuit,q)\n",
    "circuit.measure(q,c)\n",
    "\n",
    "job = execute(circuit, backend, shots=8192)\n",
    "job_monitor(job)\n",
    "counts = job.result().get_counts()\n",
    "\n",
    "print(counts)\n",
    "sortedcounts = []\n",
    "sortedkeys = sorted(counts)\n",
    "\n",
    "for i in sortedkeys:\n",
    "    for j in counts:\n",
    "        if(i == j):\n",
    "            sortedcounts.append(counts.get(j))\n",
    "            \n",
    "plt.suptitle('Normal Distribution')\n",
    "plt.plot(sortedcounts)\n",
    "plt.show()\n"
   ]
  },
  {
   "cell_type": "code",
   "execution_count": null,
   "id": "28e9813b-5d80-40fb-b79d-d53c31f99fcf",
   "metadata": {
    "is_executing": true
   },
   "outputs": [],
   "source": [
    "import numpy as np\n",
    "import matplotlib.pyplot as plt\n",
    "from qiskit.circuit import Parameter\n",
    "# First, we need to define the circuits:\n",
    "theta_param = Parameter('θ')\n",
    "phi_param = Parameter('Φ')\n",
    "\n",
    "# Circuit A\n",
    "qc_A = QuantumCircuit(1)\n",
    "qc_A.h(0)\n",
    "qc_A.rz(theta_param, 0)\n",
    "\n",
    "# Circuit B\n",
    "qc_B = QuantumCircuit(1)\n",
    "qc_B.h(0)\n",
    "qc_B.rz(theta_param, 0)\n",
    "qc_B.rx(phi_param, 0)\n",
    "\n",
    "# Next we uniformly sample the parameter space for the two parameters theta and phi\n",
    "np.random.seed(0)\n",
    "num_param = 1000\n",
    "theta = [2*np.pi*np.random.uniform() for i in range(num_param)]\n",
    "phi = [2*np.pi*np.random.uniform() for i in range(num_param)]\n",
    "\n",
    "# Then we take the parameter value lists, build the state vectors corresponding\n",
    "# to each circuit, and plot them on the Bloch sphere:\n",
    "from qiskit.visualization.bloch import Bloch\n",
    "from qiskit.quantum_info import Statevector\n",
    "\n",
    "def state_to_bloch(state_vec):\n",
    "    # Converts state vectors to points on the Bloch sphere\n",
    "    phi = np.angle(state_vec.data[1])-np.angle(state_vec.data[0])\n",
    "    theta = 2*np.arccos(np.abs(state_vec.data[0]))\n",
    "    return [np.sin(theta)*np.cos(phi),np.sin(theta)*np.sin(phi),np.cos(theta)]\n",
    "\n",
    "# Bloch sphere plot formatting\n",
    "width, height = plt.figaspect(1/2)\n",
    "fig=plt.figure(figsize=(width, height))\n",
    "ax1, ax2 = fig.add_subplot(1, 2, 1, projection='3d'), fig.add_subplot(1, 2, 2, projection='3d')\n",
    "b1,b2 = Bloch(axes=ax1), Bloch(axes=ax2)\n",
    "b1.point_color, b2.point_color = ['tab:blue'],['tab:blue']\n",
    "b1.point_marker, b2.point_marker= ['o'],['o']\n",
    "b1.point_size, b2.point_size=[2],[2]\n",
    "\n",
    "# Calculate state vectors for circuit A and circuit B for each set of sampled parameters\n",
    "# and add to their respective Bloch sphere\n",
    "for i in range(num_param):    \n",
    "    state_1=Statevector.from_instruction(qc_A.bind_parameters({theta_param:theta[i]}))\n",
    "    state_2=Statevector.from_instruction(qc_B.bind_parameters({theta_param:theta[i], phi_param:phi[i]}))\n",
    "    b1.add_points(state_to_bloch(state_1))\n",
    "    b2.add_points(state_to_bloch(state_2))\n",
    "\n",
    "b1.show()\n",
    "b2.show()"
   ]
  },
  {
   "cell_type": "code",
   "execution_count": null,
   "outputs": [],
   "source": [],
   "metadata": {
    "collapsed": false
   }
  }
 ],
 "metadata": {
  "kernelspec": {
   "display_name": "Python 3",
   "language": "python",
   "name": "python3"
  },
  "language_info": {
   "codemirror_mode": {
    "name": "ipython",
    "version": 3
   },
   "file_extension": ".py",
   "mimetype": "text/x-python",
   "name": "python",
   "nbconvert_exporter": "python",
   "pygments_lexer": "ipython3",
   "version": "3.10.9"
  },
  "vscode": {
   "interpreter": {
    "hash": "916dbcbb3f70747c44a77c7bcd40155683ae19c65e1c03b4aa3499c5328201f1"
   }
  }
 },
 "nbformat": 4,
 "nbformat_minor": 5
}
