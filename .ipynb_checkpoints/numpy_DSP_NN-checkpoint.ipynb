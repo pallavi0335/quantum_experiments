{
 "cells": [
  {
   "cell_type": "code",
   "execution_count": 9,
   "id": "cc2618cd-6872-4987-bc83-af5855d0d665",
   "metadata": {},
   "outputs": [],
   "source": [
    "%config Completer.use_jedi = False"
   ]
  },
  {
   "cell_type": "code",
   "execution_count": 3,
   "id": "54c7ed62-819d-485d-8b73-cfd3fe37b01b",
   "metadata": {},
   "outputs": [
    {
     "name": "stdout",
     "output_type": "stream",
     "text": [
      "sigmoid derivative [0.19661193 0.10499359 0.04517666]\n"
     ]
    }
   ],
   "source": [
    "import numpy as np\n",
    "\n",
    "def sigmoid(x):\n",
    "    return 1/(1 + np.exp(x))\n",
    "\n",
    "def sigmoid_grad(x):\n",
    "    s = sigmoid(x)\n",
    "    return s * (1-s)\n",
    "\n",
    "print(\"sigmoid derivative\",sigmoid_grad(np.array([1,2,3])))"
   ]
  },
  {
   "cell_type": "code",
   "execution_count": 4,
   "id": "0a937e8c-4515-4672-adb3-887c44a2caae",
   "metadata": {},
   "outputs": [
    {
     "name": "stdout",
     "output_type": "stream",
     "text": [
      "flattened image array [[0.42693804]\n",
      " [0.29099597]\n",
      " [0.92892521]\n",
      " [0.82544465]\n",
      " [0.1800177 ]\n",
      " [0.70202144]\n",
      " [0.64649051]\n",
      " [0.16121442]\n",
      " [0.84413499]\n",
      " [0.38266291]\n",
      " [0.08440986]\n",
      " [0.96903443]\n",
      " [0.54728058]\n",
      " [0.95576566]\n",
      " [0.83239183]\n",
      " [0.81271434]\n",
      " [0.26460299]\n",
      " [0.2369684 ]\n",
      " [0.21196657]\n",
      " [0.08340382]\n",
      " [0.31098762]\n",
      " [0.35364597]\n",
      " [0.08801176]\n",
      " [0.04425005]\n",
      " [0.23262607]\n",
      " [0.79613477]\n",
      " [0.01391351]]\n"
     ]
    }
   ],
   "source": [
    "def image2vector(x):\n",
    "    return x.reshape(x.shape[0]*x.shape[1]*x.shape[2], -1)\n",
    "\n",
    "\n",
    "print(\"flattened image array\",image2vector(np.random.rand(3,3,3)))  "
   ]
  },
  {
   "cell_type": "code",
   "execution_count": 5,
   "id": "27eb3257-0d13-463a-abba-d8a01083e5c8",
   "metadata": {},
   "outputs": [
    {
     "name": "stdout",
     "output_type": "stream",
     "text": [
      "shapes of x_norm and x are :  (2, 1) (2, 3)\n",
      "normalized matrix [[0.         0.6        0.8       ]\n",
      " [0.49026124 0.         0.87157554]]\n"
     ]
    }
   ],
   "source": [
    "def normalizeRows(x):\n",
    "    x_norm = np.linalg.norm(x, axis=1, keepdims= True)\n",
    "    print (\"shapes of x_norm and x are : \", x_norm.shape, x.shape)\n",
    "    return x/x_norm\n",
    "print(\"normalized matrix\", normalizeRows(np.array([\n",
    "    [0, 3, 4],\n",
    "    [9, 0, 16]])))\n",
    "\n",
    "# axis=1 because each row should be divided by norm value which means\n",
    "#value of all cols in each row will be divided by x_norm"
   ]
  },
  {
   "cell_type": "code",
   "execution_count": 6,
   "id": "bf129afd-1737-4305-a012-2033e63911fe",
   "metadata": {},
   "outputs": [
    {
     "name": "stdout",
     "output_type": "stream",
     "text": [
      "shapes of x_exp , x_sum , x_softmax: (2, 5) (2, 1) (2, 5)\n",
      "softmax is  [[9.80897665e-01 8.94462891e-04 1.79657674e-02 1.21052389e-04\n",
      "  1.21052389e-04]\n",
      " [8.78679856e-01 1.18916387e-01 8.01252314e-04 8.01252314e-04\n",
      "  8.01252314e-04]]\n"
     ]
    }
   ],
   "source": [
    "def softmax(x):\n",
    "    x_exp = np.exp(x)\n",
    "    x_sum = np.sum(x_exp, axis=1, keepdims=True)\n",
    "    x_softmax = x_exp/x_sum\n",
    "    print(\"shapes of x_exp , x_sum , x_softmax:\", x_exp.shape ,x_sum.shape, x_exp.shape)\n",
    "    return x_softmax\n",
    "\n",
    "x = np.array([\n",
    "    [9, 2, 5, 0, 0],\n",
    "    [7, 5, 0, 0 ,0]])\n",
    "print(\"softmax is \",softmax(x));"
   ]
  },
  {
   "cell_type": "code",
   "execution_count": 13,
   "id": "b459d838-4b6a-4ad5-8119-a72baada6733",
   "metadata": {},
   "outputs": [
    {
     "name": "stdout",
     "output_type": "stream",
     "text": [
      "[[-0.07889411 -0.387328    1.104273   -0.00796311 -1.72725448]]\n",
      "L1 = 6.305712699820198\n",
      "L2 =  0.6557438524302001\n"
     ]
    }
   ],
   "source": [
    "#Implement L1 and L2 function\n",
    "\n",
    "# l1 is the sum of absolute values of vector\n",
    "def L1(yhat,y):\n",
    "    return np.sum(np.abs(y-yhat))\n",
    "\n",
    "yhat = np.random.randn(1,5);\n",
    "print(yhat);\n",
    "y = np.array([1, 0, 0, 1, 1]);\n",
    "print(\"L1 = \" + str(L1(yhat,y)));\n",
    "\n",
    "# l2 is the sqrt of the sum of the squared values of vector\n",
    "def L2(yhat,y):\n",
    "    return np.sqrt(np.sum(np.square(yhat-y)))\n",
    "\n",
    "yhat = np.array([.9, 0.2, 0.1, .4, .9])\n",
    "y = np.array([1, 0, 0, 1, 1])\n",
    "print(\"L2 = \",L2(yhat,y));\n"
   ]
  },
  {
   "cell_type": "code",
   "execution_count": 34,
   "id": "94a6fd26-3119-4391-8c7f-cae1f70bae6a",
   "metadata": {},
   "outputs": [
    {
     "name": "stdout",
     "output_type": "stream",
     "text": [
      "first a is [[0 1]\n",
      " [2 3]\n",
      " [4 5]]\n",
      "b is [[0 1 2]\n",
      " [3 4 5]]\n",
      "a is [[0 1]\n",
      " [2 3]\n",
      " [4 5]]\n"
     ]
    }
   ],
   "source": [
    "# calculate dot product of two matrices\n",
    "a = np.arange(6).reshape((3, 2))\n",
    "print(\"first a is\" ,a)\n",
    "b = np.reshape(a,(2,-1))\n",
    "print(\"b is\", b)\n",
    "print(\"a is\",a)"
   ]
  },
  {
   "cell_type": "code",
   "execution_count": 36,
   "id": "0671ae37-f61f-474c-af5d-44fd2bf33f8b",
   "metadata": {},
   "outputs": [
    {
     "ename": "ValueError",
     "evalue": "can only specify one unknown dimension",
     "output_type": "error",
     "traceback": [
      "\u001b[1;31m---------------------------------------------------------------------------\u001b[0m",
      "\u001b[1;31mValueError\u001b[0m                                Traceback (most recent call last)",
      "Cell \u001b[1;32mIn [36], line 2\u001b[0m\n\u001b[0;32m      1\u001b[0m x \u001b[38;5;241m=\u001b[39m np\u001b[38;5;241m.\u001b[39marray([[\u001b[38;5;241m1\u001b[39m, \u001b[38;5;241m2\u001b[39m, \u001b[38;5;241m3\u001b[39m], [\u001b[38;5;241m4\u001b[39m, \u001b[38;5;241m5\u001b[39m, \u001b[38;5;241m6\u001b[39m]])\n\u001b[1;32m----> 2\u001b[0m \u001b[38;5;28mprint\u001b[39m(\u001b[43mx\u001b[49m\u001b[38;5;241;43m.\u001b[39;49m\u001b[43mreshape\u001b[49m\u001b[43m(\u001b[49m\u001b[38;5;241;43m-\u001b[39;49m\u001b[38;5;241;43m1\u001b[39;49m\u001b[43m,\u001b[49m\u001b[38;5;241;43m-\u001b[39;49m\u001b[38;5;241;43m1\u001b[39;49m\u001b[43m)\u001b[49m)\n",
      "\u001b[1;31mValueError\u001b[0m: can only specify one unknown dimension"
     ]
    }
   ],
   "source": [
    "x = np.array([[1, 2, 3], [4, 5, 6]])\n",
    "print(x.reshape(-1))"
   ]
  },
  {
   "cell_type": "code",
   "execution_count": null,
   "id": "4578d515-8551-459e-90b8-9e2ef28d683e",
   "metadata": {},
   "outputs": [],
   "source": []
  }
 ],
 "metadata": {
  "kernelspec": {
   "display_name": "Python 3 (ipykernel)",
   "language": "python",
   "name": "python3"
  },
  "language_info": {
   "codemirror_mode": {
    "name": "ipython",
    "version": 3
   },
   "file_extension": ".py",
   "mimetype": "text/x-python",
   "name": "python",
   "nbconvert_exporter": "python",
   "pygments_lexer": "ipython3",
   "version": "3.8.13"
  }
 },
 "nbformat": 4,
 "nbformat_minor": 5
}
