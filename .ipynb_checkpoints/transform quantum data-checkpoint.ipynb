{
 "cells": [
  {
   "cell_type": "code",
   "execution_count": 6,
   "id": "7e55e8fe-c80d-40ac-99c1-6fa44394026a",
   "metadata": {},
   "outputs": [
    {
     "name": "stdout",
     "output_type": "stream",
     "text": [
      "Note: you may need to restart the kernel to use updated packages.\n"
     ]
    },
    {
     "name": "stderr",
     "output_type": "stream",
     "text": [
      "ERROR: Could not find a version that satisfies the requirement qiskit-baseband (from versions: none)\n",
      "ERROR: No matching distribution found for qiskit-baseband\n"
     ]
    }
   ],
   "source": [
    "pip install qiskit"
   ]
  },
  {
   "cell_type": "code",
   "execution_count": 10,
   "id": "1ef80d97-30d1-4ee9-9652-d3d82b311715",
   "metadata": {},
   "outputs": [],
   "source": [
    "# Useful additional packages\n",
    "import matplotlib.pyplot as plt\n",
    "import numpy as np\n",
    "import qiskit\n",
    "import math\n"
   ]
  },
  {
   "cell_type": "code",
   "execution_count": 11,
   "id": "2fffd330-d093-48f0-939c-9889434d61a9",
   "metadata": {},
   "outputs": [
    {
     "ename": "ImportError",
     "evalue": "cannot import name 'BaseBackend' from 'qiskit.providers' (C:\\Users\\D062732\\AppData\\Local\\jupyterlabdesktopappserver\\lib\\site-packages\\qiskit\\providers\\__init__.py)",
     "output_type": "error",
     "traceback": [
      "\u001b[1;31m---------------------------------------------------------------------------\u001b[0m",
      "\u001b[1;31mImportError\u001b[0m                               Traceback (most recent call last)",
      "Cell \u001b[1;32mIn [11], line 7\u001b[0m\n\u001b[0;32m      5\u001b[0m \u001b[38;5;28;01mfrom\u001b[39;00m \u001b[38;5;21;01mqiskit\u001b[39;00m \u001b[38;5;28;01mimport\u001b[39;00m BasicAer\n\u001b[0;32m      6\u001b[0m \u001b[38;5;28;01mfrom\u001b[39;00m \u001b[38;5;21;01mqiskit\u001b[39;00m \u001b[38;5;28;01mimport\u001b[39;00m providers\n\u001b[1;32m----> 7\u001b[0m \u001b[38;5;28;01mfrom\u001b[39;00m \u001b[38;5;21;01mqiskit\u001b[39;00m \u001b[38;5;28;01mimport\u001b[39;00m aqua\n\u001b[0;32m     10\u001b[0m \u001b[38;5;28;01mfrom\u001b[39;00m \u001b[38;5;21;01mqiskit\u001b[39;00m\u001b[38;5;21;01m.\u001b[39;00m\u001b[38;5;21;01maqua\u001b[39;00m\u001b[38;5;21;01m.\u001b[39;00m\u001b[38;5;21;01mcomponents\u001b[39;00m\u001b[38;5;21;01m.\u001b[39;00m\u001b[38;5;21;01muncertainty_models\u001b[39;00m \u001b[38;5;28;01mimport\u001b[39;00m NormalDistribution,UniformDistribution,LogNormalDistribution\n",
      "File \u001b[1;32m~\\AppData\\Local\\jupyterlabdesktopappserver\\lib\\site-packages\\qiskit\\aqua\\__init__.py:76\u001b[0m\n\u001b[0;32m     74\u001b[0m \u001b[38;5;28;01mfrom\u001b[39;00m \u001b[38;5;21;01m.\u001b[39;00m\u001b[38;5;21;01mmissing_optional_library_error\u001b[39;00m \u001b[38;5;28;01mimport\u001b[39;00m MissingOptionalLibraryError\n\u001b[0;32m     75\u001b[0m \u001b[38;5;28;01mfrom\u001b[39;00m \u001b[38;5;21;01m.\u001b[39;00m\u001b[38;5;21;01maqua_globals\u001b[39;00m \u001b[38;5;28;01mimport\u001b[39;00m aqua_globals\n\u001b[1;32m---> 76\u001b[0m \u001b[38;5;28;01mfrom\u001b[39;00m \u001b[38;5;21;01m.\u001b[39;00m\u001b[38;5;21;01mquantum_instance\u001b[39;00m \u001b[38;5;28;01mimport\u001b[39;00m QuantumInstance\n\u001b[0;32m     77\u001b[0m \u001b[38;5;28;01mfrom\u001b[39;00m \u001b[38;5;21;01m.\u001b[39;00m\u001b[38;5;21;01malgorithms\u001b[39;00m \u001b[38;5;28;01mimport\u001b[39;00m QuantumAlgorithm\n\u001b[0;32m     78\u001b[0m \u001b[38;5;28;01mfrom\u001b[39;00m \u001b[38;5;21;01m.\u001b[39;00m\u001b[38;5;21;01m_logging\u001b[39;00m \u001b[38;5;28;01mimport\u001b[39;00m (QiskitLogDomains,\n\u001b[0;32m     79\u001b[0m                        get_logging_level,\n\u001b[0;32m     80\u001b[0m                        set_logging_level,\n\u001b[1;32m   (...)\u001b[0m\n\u001b[0;32m     83\u001b[0m                        get_qiskit_aqua_logging,\n\u001b[0;32m     84\u001b[0m                        set_qiskit_aqua_logging)\n",
      "File \u001b[1;32m~\\AppData\\Local\\jupyterlabdesktopappserver\\lib\\site-packages\\qiskit\\aqua\\quantum_instance.py:21\u001b[0m\n\u001b[0;32m     18\u001b[0m \u001b[38;5;28;01mimport\u001b[39;00m \u001b[38;5;21;01mtime\u001b[39;00m\n\u001b[0;32m     19\u001b[0m \u001b[38;5;28;01mimport\u001b[39;00m \u001b[38;5;21;01mnumpy\u001b[39;00m \u001b[38;5;28;01mas\u001b[39;00m \u001b[38;5;21;01mnp\u001b[39;00m\n\u001b[1;32m---> 21\u001b[0m \u001b[38;5;28;01mfrom\u001b[39;00m \u001b[38;5;21;01mqiskit\u001b[39;00m\u001b[38;5;21;01m.\u001b[39;00m\u001b[38;5;21;01mproviders\u001b[39;00m \u001b[38;5;28;01mimport\u001b[39;00m Backend, BaseBackend\n\u001b[0;32m     22\u001b[0m \u001b[38;5;28;01mfrom\u001b[39;00m \u001b[38;5;21;01mqiskit\u001b[39;00m\u001b[38;5;21;01m.\u001b[39;00m\u001b[38;5;21;01mtranspiler\u001b[39;00m \u001b[38;5;28;01mimport\u001b[39;00m CouplingMap, PassManager\n\u001b[0;32m     23\u001b[0m \u001b[38;5;28;01mfrom\u001b[39;00m \u001b[38;5;21;01mqiskit\u001b[39;00m\u001b[38;5;21;01m.\u001b[39;00m\u001b[38;5;21;01mtranspiler\u001b[39;00m\u001b[38;5;21;01m.\u001b[39;00m\u001b[38;5;21;01mlayout\u001b[39;00m \u001b[38;5;28;01mimport\u001b[39;00m Layout\n",
      "\u001b[1;31mImportError\u001b[0m: cannot import name 'BaseBackend' from 'qiskit.providers' (C:\\Users\\D062732\\AppData\\Local\\jupyterlabdesktopappserver\\lib\\site-packages\\qiskit\\providers\\__init__.py)"
     ]
    }
   ],
   "source": [
    "from math import pi\n",
    "from qiskit import QuantumCircuit, ClassicalRegister, QuantumRegister, transpile\n",
    "from qiskit.tools.visualization import circuit_drawer\n",
    "from qiskit.quantum_info import state_fidelity\n",
    "from qiskit import BasicAer\n",
    "from qiskit import providers\n",
    "from qiskit import aqua\n",
    "\n",
    "from qiskit.aqua.components.uncertainty_models import NormalDistribution,UniformDistribution,LogNormalDistribution\n",
    "from qiskit.aqua.components.uncertainty_models import UnivariateVariationalDistribution\n",
    "from qiskit.aqua.components.uncertainty_models import MultivariateVariationalDistribution\n",
    "\n"
   ]
  },
  {
   "cell_type": "code",
   "execution_count": 9,
   "id": "9fc3e2f8-b3d0-43ff-9774-9ed52292b24b",
   "metadata": {},
   "outputs": [
    {
     "data": {
      "text/html": [
       "<pre style=\"word-wrap: normal;white-space: pre;background: #fff0;line-height: 1.1;font-family: &quot;Courier New&quot;,Courier,monospace\">     ┌───┐\n",
       "q_0: ┤ H ├\n",
       "     ├───┤\n",
       "q_1: ┤ H ├\n",
       "     ├───┤\n",
       "q_2: ┤ H ├\n",
       "     ├───┤\n",
       "q_3: ┤ H ├\n",
       "     └───┘\n",
       "c_0: ═════\n",
       "          \n",
       "c_1: ═════\n",
       "          \n",
       "c_2: ═════\n",
       "          </pre>"
      ],
      "text/plain": [
       "     ┌───┐\n",
       "q_0: ┤ H ├\n",
       "     ├───┤\n",
       "q_1: ┤ H ├\n",
       "     ├───┤\n",
       "q_2: ┤ H ├\n",
       "     ├───┤\n",
       "q_3: ┤ H ├\n",
       "     └───┘\n",
       "c_0: ═════\n",
       "          \n",
       "c_1: ═════\n",
       "          \n",
       "c_2: ═════\n",
       "          "
      ]
     },
     "execution_count": 9,
     "metadata": {},
     "output_type": "execute_result"
    }
   ],
   "source": [
    "qc = QuantumCircuit(4, 3)\n",
    "for i in range (0,4):\n",
    "    qc.h(i)\n",
    "qc.draw()"
   ]
  },
  {
   "cell_type": "code",
   "execution_count": 10,
   "id": "618a1d23-1531-4ab0-8e2e-fb3d47d2d572",
   "metadata": {},
   "outputs": [
    {
     "ename": "NameError",
     "evalue": "name 'NormalDistribution' is not defined",
     "output_type": "error",
     "traceback": [
      "\u001b[1;31m---------------------------------------------------------------------------\u001b[0m",
      "\u001b[1;31mNameError\u001b[0m                                 Traceback (most recent call last)",
      "Cell \u001b[1;32mIn [10], line 2\u001b[0m\n\u001b[0;32m      1\u001b[0m circuit \u001b[38;5;241m=\u001b[39m QuantumCircuit(\u001b[38;5;241m5\u001b[39m,\u001b[38;5;241m5\u001b[39m)\n\u001b[1;32m----> 2\u001b[0m normal \u001b[38;5;241m=\u001b[39m \u001b[43mNormalDistribution\u001b[49m(num_target_qubits \u001b[38;5;241m=\u001b[39m \u001b[38;5;241m5\u001b[39m, mu\u001b[38;5;241m=\u001b[39m\u001b[38;5;241m0\u001b[39m, sigma\u001b[38;5;241m=\u001b[39m\u001b[38;5;241m1\u001b[39m, low\u001b[38;5;241m=\u001b[39m\u001b[38;5;241m-\u001b[39m \u001b[38;5;241m1\u001b[39m, high\u001b[38;5;241m=\u001b[39m\u001b[38;5;241m1\u001b[39m)\n\u001b[0;32m      3\u001b[0m normal\u001b[38;5;241m.\u001b[39mbuild(circuit,q)\n\u001b[0;32m      4\u001b[0m circuit\u001b[38;5;241m.\u001b[39mmeasure(q,c)\n",
      "\u001b[1;31mNameError\u001b[0m: name 'NormalDistribution' is not defined"
     ]
    }
   ],
   "source": [
    "circuit = QuantumCircuit(5,5)\n",
    "normal = NormalDistribution(num_target_qubits = 5, mu=0, sigma=1, low=- 1, high=1)\n",
    "normal.build(circuit,q)\n",
    "circuit.measure(q,c)\n",
    "\n",
    "job = execute(circuit, backend, shots=8192)\n",
    "job_monitor(job)\n",
    "counts = job.result().get_counts()\n",
    "\n",
    "print(counts)\n",
    "sortedcounts = []\n",
    "sortedkeys = sorted(counts)\n",
    "\n",
    "for i in sortedkeys:\n",
    "    for j in counts:\n",
    "        if(i == j):\n",
    "            sortedcounts.append(counts.get(j))\n",
    "            \n",
    "plt.suptitle('Normal Distribution')\n",
    "plt.plot(sortedcounts)\n",
    "plt.show()\n"
   ]
  },
  {
   "cell_type": "code",
   "execution_count": null,
   "id": "28e9813b-5d80-40fb-b79d-d53c31f99fcf",
   "metadata": {},
   "outputs": [],
   "source": []
  }
 ],
 "metadata": {
  "kernelspec": {
   "display_name": "Python 3 (ipykernel)",
   "language": "python",
   "name": "python3"
  },
  "language_info": {
   "codemirror_mode": {
    "name": "ipython",
    "version": 3
   },
   "file_extension": ".py",
   "mimetype": "text/x-python",
   "name": "python",
   "nbconvert_exporter": "python",
   "pygments_lexer": "ipython3",
   "version": "3.8.13"
  }
 },
 "nbformat": 4,
 "nbformat_minor": 5
}
